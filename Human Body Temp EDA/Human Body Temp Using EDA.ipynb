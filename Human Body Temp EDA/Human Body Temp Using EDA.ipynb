{
 "cells": [
  {
   "cell_type": "markdown",
   "metadata": {},
   "source": [
    "# What is the True Normal Human Body Temperature? \n",
    "\n",
    "#### Background\n",
    "\n",
    "The mean normal body temperature was held to be 37$^{\\circ}$C or 98.6$^{\\circ}$F for more than 120 years since it was first conceptualized and reported by Carl Wunderlich in a famous 1868 book. But, is this value statistically correct?"
   ]
  },
  {
   "cell_type": "markdown",
   "metadata": {},
   "source": [
    "<h3>Exercises</h3>\n",
    "\n",
    "<p>In this exercise, you will analyze a dataset of human body temperatures and employ the concepts of hypothesis testing, confidence intervals, and statistical significance.</p>\n",
    "\n",
    "<p>Answer the following questions <b>in this notebook below and submit to your Github account</b>.</p> \n",
    "\n",
    "<ol>\n",
    "<li>  Is the distribution of body temperatures normal? \n",
    "    <ul>\n",
    "    <li> Although this is not a requirement for the Central Limit Theorem to hold (read the introduction on Wikipedia's page about the CLT carefully: https://en.wikipedia.org/wiki/Central_limit_theorem), it gives us some peace of mind that the population may also be normally distributed if we assume that this sample is representative of the population.\n",
    "    <li> Think about the way you're going to check for the normality of the distribution. Graphical methods are usually used first, but there are also other ways: https://en.wikipedia.org/wiki/Normality_test\n",
    "    </ul>\n",
    "<li>  Is the sample size large? Are the observations independent?\n",
    "    <ul>\n",
    "    <li> Remember that this is a condition for the Central Limit Theorem, and hence the statistical tests we are using, to apply.\n",
    "    </ul>\n",
    "<li>  Is the true population mean really 98.6 degrees F?\n",
    "    <ul>\n",
    "    <li> First, try a bootstrap hypothesis test.\n",
    "    <li> Now, let's try frequentist statistical testing. Would you use a one-sample or two-sample test? Why?\n",
    "    <li> In this situation, is it appropriate to use the $t$ or $z$ statistic? \n",
    "    <li> Now try using the other test. How is the result be different? Why?\n",
    "    </ul>\n",
    "<li>  Draw a small sample of size 10 from the data and repeat both frequentist tests. \n",
    "    <ul>\n",
    "    <li> Which one is the correct one to use? \n",
    "    <li> What do you notice? What does this tell you about the difference in application of the $t$ and $z$ statistic?\n",
    "    </ul>\n",
    "<li>  At what temperature should we consider someone's temperature to be \"abnormal\"?\n",
    "    <ul>\n",
    "    <li> As in the previous example, try calculating everything using the boostrap approach, as well as the frequentist approach.\n",
    "    <li> Start by computing the margin of error and confidence interval. When calculating the confidence interval, keep in mind that you should use the appropriate formula for one draw, and not N draws.\n",
    "    </ul>\n",
    "<li>  Is there a significant difference between males and females in normal temperature?\n",
    "    <ul>\n",
    "    <li> What testing approach did you use and why?\n",
    "    <li> Write a story with your conclusion in the context of the original problem.\n",
    "    </ul>\n",
    "</ol>\n",
    "\n",
    "You can include written notes in notebook cells using Markdown: \n",
    "   - In the control panel at the top, choose Cell > Cell Type > Markdown\n",
    "   - Markdown syntax: http://nestacms.com/docs/creating-content/markdown-cheat-sheet\n",
    "\n",
    "#### Resources\n",
    "\n",
    "+ Information and data sources: http://www.amstat.org/publications/jse/datasets/normtemp.txt, http://www.amstat.org/publications/jse/jse_data_archive.htm\n",
    "+ Markdown syntax: http://nestacms.com/docs/creating-content/markdown-cheat-sheet\n",
    "\n",
    "****"
   ]
  },
  {
   "cell_type": "code",
   "execution_count": 208,
   "metadata": {},
   "outputs": [],
   "source": [
    "import pandas as pd\n",
    "import matplotlib.pyplot as plt\n",
    "import seaborn as sns\n",
    "import numpy as np\n",
    "from statsmodels.graphics.gofplots import qqplot\n",
    "from statsmodels.stats.weightstats import ztest\n",
    "from scipy import stats\n",
    "from scipy.stats import ttest_ind\n",
    "sns.set()\n",
    "\n",
    "df = pd.read_csv('data/human_body_temperature.csv')"
   ]
  },
  {
   "cell_type": "code",
   "execution_count": 209,
   "metadata": {
    "scrolled": true
   },
   "outputs": [
    {
     "name": "stdout",
     "output_type": "stream",
     "text": [
      "<class 'pandas.core.frame.DataFrame'>\n",
      "RangeIndex: 130 entries, 0 to 129\n",
      "Data columns (total 3 columns):\n",
      "temperature    130 non-null float64\n",
      "gender         130 non-null object\n",
      "heart_rate     130 non-null float64\n",
      "dtypes: float64(2), object(1)\n",
      "memory usage: 3.1+ KB\n"
     ]
    }
   ],
   "source": [
    "df.info()"
   ]
  },
  {
   "cell_type": "code",
   "execution_count": 210,
   "metadata": {},
   "outputs": [
    {
     "data": {
      "text/plain": [
       "98.24923076923078"
      ]
     },
     "execution_count": 210,
     "metadata": {},
     "output_type": "execute_result"
    }
   ],
   "source": [
    "tmp = df['temperature']\n",
    "np.mean(tmp)"
   ]
  },
  {
   "cell_type": "code",
   "execution_count": 211,
   "metadata": {},
   "outputs": [
    {
     "data": {
      "text/plain": [
       "0.7303577789050377"
      ]
     },
     "execution_count": 211,
     "metadata": {},
     "output_type": "execute_result"
    }
   ],
   "source": [
    "np.std(tmp)"
   ]
  },
  {
   "cell_type": "code",
   "execution_count": 212,
   "metadata": {},
   "outputs": [
    {
     "data": {
      "image/png": "[encoded data removed]",
      "text/plain": [
       "<Figure size 432x288 with 1 Axes>"
      ]
     },
     "metadata": {},
     "output_type": "display_data"
    }
   ],
   "source": [
    "plt.hist(df.temperature, bins = 20)\n",
    "plt.xlabel = ('temperature')\n",
    "plt.ylabel = ('count')\n",
    "plt.show()"
   ]
  },
  {
   "cell_type": "markdown",
   "metadata": {
    "collapsed": true
   },
   "source": [
    "## **Q1:  Is the distribution of body temperatures normal?**\n"
   ]
  },
  {
   "cell_type": "markdown",
   "metadata": {},
   "source": [
    "### Answer: Yes, the distribution of body temperatures is Normal. The data looks symmetrical & the statistical methods provided high p values when testing for fit against a Normal curve.\n",
    "\n",
    "\n",
    "Normal conditions with T-intervals\n",
    "\n",
    "* **Sample size >= 30** \n",
    "    * The sample size for the data is 130, this meets the >= 30 criteria\n",
    "* If sample size is <30, then the original data distribution should be normal or if the data is approx. symmetric around the mean.\n",
    "    * see below for graphical displays of the data\n"
   ]
  },
  {
   "cell_type": "markdown",
   "metadata": {},
   "source": [
    "### Normality Tests Graphical Methods"
   ]
  },
  {
   "cell_type": "markdown",
   "metadata": {},
   "source": [
    "**Below you can see that the data is roughly bell shaped & symmetrical when graphically displayed in a histogram**"
   ]
  },
  {
   "cell_type": "code",
   "execution_count": 213,
   "metadata": {},
   "outputs": [
    {
     "data": {
      "text/plain": [
       "<matplotlib.axes._subplots.AxesSubplot at 0x46815d5780>"
      ]
     },
     "execution_count": 213,
     "metadata": {},
     "output_type": "execute_result"
    },
    {
     "data": {
      "image/png": "[encoded data removed]",
      "text/plain": [
       "<Figure size 432x288 with 1 Axes>"
      ]
     },
     "metadata": {},
     "output_type": "display_data"
    }
   ],
   "source": [
    "sns.distplot(tmp)"
   ]
  },
  {
   "cell_type": "markdown",
   "metadata": {},
   "source": [
    "**Using the normal probability plot we see the data falls primarily on the line closely fitting the pattern of a normal curve.\n",
    "There are some deviations at the bottom and top of the plot.**"
   ]
  },
  {
   "cell_type": "code",
   "execution_count": 214,
   "metadata": {},
   "outputs": [
    {
     "data": {
      "image/png": "[encoded data removed]",
      "text/plain": [
       "<Figure size 432x288 with 1 Axes>"
      ]
     },
     "execution_count": 214,
     "metadata": {},
     "output_type": "execute_result"
    },
    {
     "data": {
      "image/png": "[encoded data removed]",
      "text/plain": [
       "<Figure size 432x288 with 1 Axes>"
      ]
     },
     "metadata": {},
     "output_type": "display_data"
    }
   ],
   "source": [
    "qqplot(tmp, line = 's')"
   ]
  },
  {
   "cell_type": "markdown",
   "metadata": {},
   "source": [
    "### Normality Test Statistical Method"
   ]
  },
  {
   "cell_type": "markdown",
   "metadata": {},
   "source": [
    "**Shapiro-Wilk Test** \n",
    "\n",
    "The Shapiro-Wilk tests that a sample came from normally distributed population.\n",
    "\n",
    "H0 assumues that the sample is derived from a Normal distribution.\n",
    "The p-value below is .23, above .05, we fail to reject H0. "
   ]
  },
  {
   "cell_type": "code",
   "execution_count": 215,
   "metadata": {
    "scrolled": true
   },
   "outputs": [
    {
     "name": "stdout",
     "output_type": "stream",
     "text": [
      "P-Value: 0.2331680953502655\n"
     ]
    }
   ],
   "source": [
    "stat, p = shapiro(tmp)\n",
    "print ('P-Value:', p)"
   ]
  },
  {
   "cell_type": "markdown",
   "metadata": {},
   "source": [
    "**D’Agostino’s K^2 Test** \n",
    "\n",
    "The D'Angostrino's K^2 test calculates kurtosis and skewness to determine if the data distrbution is Normal.\n",
    "\n",
    "H0 assumues that the sample is derived from a Normal distribution.\n",
    "The p-value below is .26, above .05, we fail to reject H0. "
   ]
  },
  {
   "cell_type": "code",
   "execution_count": 216,
   "metadata": {
    "scrolled": true
   },
   "outputs": [
    {
     "name": "stdout",
     "output_type": "stream",
     "text": [
      "P-Value: 0.2587479863488254\n"
     ]
    }
   ],
   "source": [
    "stat, p = normaltest(tmp)\n",
    "print ('P-Value:', p)"
   ]
  },
  {
   "cell_type": "markdown",
   "metadata": {},
   "source": [
    "## **Q2:  Is the sample size large? Are the observations independent?**"
   ]
  },
  {
   "cell_type": "markdown",
   "metadata": {},
   "source": [
    "### Answer: Yes, the sample size is large enough. There are > 30 observations in the dataset.\n",
    "The observations are indeed independent. The sample is less than 10% of the population."
   ]
  },
  {
   "cell_type": "code",
   "execution_count": 217,
   "metadata": {},
   "outputs": [
    {
     "name": "stdout",
     "output_type": "stream",
     "text": [
      "There are 130 observations\n"
     ]
    }
   ],
   "source": [
    "obs = tmp.count()\n",
    "print ('There are', obs, 'observations')"
   ]
  },
  {
   "cell_type": "markdown",
   "metadata": {},
   "source": [
    "## **Q3: Is the true population mean really 98.6 degrees F?**\n",
    "1. First, try a bootstrap hypothesis test.\n",
    "2. Now, let's try frequentist statistical testing. Would you use a one-sample or two-sample test? Why?\n",
    "3. In this situation, is it appropriate to use the  𝑡  or  𝑧  statistic?\n",
    "4. Now try using the other test. How is the result be different? Why?"
   ]
  },
  {
   "cell_type": "markdown",
   "metadata": {},
   "source": [
    "**1. Bootstrap Hypothesis**"
   ]
  },
  {
   "cell_type": "markdown",
   "metadata": {},
   "source": [
    "H0: The true population mean is 98.6F\n",
    "\n",
    "H1: The true population mean is not 98.6F\n",
    "\n",
    "Test Statistic: Mean of the bootstrap sample minus the null value of 98.6F\n",
    "\n",
    "There were 0/100 obs of getting a value of the observed difference between 98.6F and the simulated data. The resulting p-value is less than 1/100000."
   ]
  },
  {
   "cell_type": "markdown",
   "metadata": {},
   "source": [
    "#### Simulate the data that the true mean of the temperature data is the same as 98.6F. To achieve this, I will shift the data so the mean matches 98.6F."
   ]
  },
  {
   "cell_type": "code",
   "execution_count": 218,
   "metadata": {},
   "outputs": [],
   "source": [
    "\"\"\"Shifting the data\"\"\"\n",
    "pop_mean = 98.6\n",
    "tmp_shift = tmp - np.mean(tmp) + pop_mean"
   ]
  },
  {
   "cell_type": "code",
   "execution_count": 219,
   "metadata": {},
   "outputs": [],
   "source": [
    "def bootstrap_replicate_1d(data, func):\n",
    "    bs_sample = np.random.choice(data, len(data))\n",
    "    return func(bs_sample)"
   ]
  },
  {
   "cell_type": "code",
   "execution_count": 220,
   "metadata": {},
   "outputs": [],
   "source": [
    "def draw_bs_reps(data, func, size = 1):\n",
    "    \"\"\" Draw bootstrap replicates.\"\"\"\n",
    "    # Initialize array of replicates\n",
    "    bs_replicates = np.empty(size)\n",
    "    \n",
    "    # Generate replicates\n",
    "    for i in range(size):\n",
    "        bs_replicates[i] = bootstrap_replicate_1d(data, func)\n",
    "        \n",
    "    return bs_replicates"
   ]
  },
  {
   "cell_type": "markdown",
   "metadata": {},
   "source": [
    "Using bootstrapping on the shifted data to simulate data acquisition under the null hypothesis."
   ]
  },
  {
   "cell_type": "code",
   "execution_count": 221,
   "metadata": {},
   "outputs": [],
   "source": [
    "\"\"\"Computing the test statistic. The difference of the mean of the bootstrap sample minus 98.6F\"\"\"\n",
    "def diff_from_pop (data, pop_value = 98.6):\n",
    "    return np.mean(data) - pop_value"
   ]
  },
  {
   "cell_type": "code",
   "execution_count": 222,
   "metadata": {},
   "outputs": [
    {
     "data": {
      "text/plain": [
       "-0.35076923076921673"
      ]
     },
     "execution_count": 222,
     "metadata": {},
     "output_type": "execute_result"
    }
   ],
   "source": [
    "\"\"\"Find the difference between the observed data and the population value of 98.6\"\"\"\n",
    "diff_obs = diff_from_pop(tmp)\n",
    "diff_obs"
   ]
  },
  {
   "cell_type": "markdown",
   "metadata": {},
   "source": [
    "Use the 'draw_bs_reps' function to generate the bootstrap replicates. The value of the tests statistics computed from a bootstrap sample. The shifted data is used because this is the data used to simulate the null hypothesis."
   ]
  },
  {
   "cell_type": "code",
   "execution_count": 223,
   "metadata": {},
   "outputs": [],
   "source": [
    "bs_replicates = draw_bs_reps(tmp_shift, diff_from_pop, 100000)"
   ]
  },
  {
   "cell_type": "code",
   "execution_count": 224,
   "metadata": {},
   "outputs": [
    {
     "data": {
      "text/plain": [
       "0.0"
      ]
     },
     "execution_count": 224,
     "metadata": {},
     "output_type": "execute_result"
    }
   ],
   "source": [
    "p_value = np.sum(bs_replicates <= diff_obs) / 100000\n",
    "p_value"
   ]
  },
  {
   "cell_type": "code",
   "execution_count": 225,
   "metadata": {},
   "outputs": [
    {
     "data": {
      "image/png": "[encoded data removed]",
      "text/plain": [
       "<Figure size 432x288 with 1 Axes>"
      ]
     },
     "metadata": {},
     "output_type": "display_data"
    }
   ],
   "source": [
    "\"\"\"Plotting the bs_replicates and the observed value. The observed value (the red line) is well below the mean value.\"\"\"\n",
    "\n",
    "sns.distplot(bs_replicates)\n",
    "plt.axvline(x=diff_obs, color = 'red')\n",
    "plt.xlabel = ('Temperature')\n",
    "plt.ylabel = ('PDF')\n",
    "plt.show()"
   ]
  },
  {
   "cell_type": "code",
   "execution_count": 226,
   "metadata": {},
   "outputs": [
    {
     "data": {
      "text/plain": [
       "-0.28384615384615586"
      ]
     },
     "execution_count": 226,
     "metadata": {},
     "output_type": "execute_result"
    }
   ],
   "source": [
    "\"\"\"The min observed replicate is -.27\"\"\"\n",
    "np.min(bs_replicates)"
   ]
  },
  {
   "cell_type": "markdown",
   "metadata": {},
   "source": [
    "**2. Now, let's try frequentist statistical testing. Would you use a one-sample or two-sample test? Why?**"
   ]
  },
  {
   "cell_type": "markdown",
   "metadata": {},
   "source": [
    "I would use a One Sample test - because I am testing whether the population mean (98.6F) is different than the sample mean (the data)"
   ]
  },
  {
   "cell_type": "markdown",
   "metadata": {},
   "source": [
    "H0: The true population mean is 98.6F\n",
    "\n",
    "H1: The true population mean is not 98.6F\n",
    "\n",
    "Signifance level is .05\n",
    "\n",
    "p value is less than .05%, we can reject the null hypothesis. See both methods below"
   ]
  },
  {
   "cell_type": "code",
   "execution_count": 227,
   "metadata": {},
   "outputs": [
    {
     "name": "stdout",
     "output_type": "stream",
     "text": [
      "98.24923076923078 0.7303577789050377 0.06405661469519336\n"
     ]
    },
    {
     "data": {
      "text/plain": [
       "-5.475925202078116"
      ]
     },
     "execution_count": 227,
     "metadata": {},
     "output_type": "execute_result"
    }
   ],
   "source": [
    "# sample size\n",
    "n = 130\n",
    "\n",
    "# assumed population mean\n",
    "X = 98.6\n",
    "\n",
    "# sample mean\n",
    "xbar = np.mean(tmp)\n",
    "\n",
    "#standard deviation\n",
    "s = np.std(tmp)\n",
    "\n",
    "# estimating population standard deviation with the sample standard deviation (s). This will be a good estimate with the sample size >100\n",
    "std = s/(np.sqrt(n))\n",
    "\n",
    "print (xbar, s, std)\n",
    "\n",
    "t_val = (xbar - X )/ std\n",
    "t_val\n",
    "\n",
    "#This t value cannot be looked up on the t-table"
   ]
  },
  {
   "cell_type": "markdown",
   "metadata": {},
   "source": [
    "### ttest_1samp function from scipy"
   ]
  },
  {
   "cell_type": "code",
   "execution_count": 228,
   "metadata": {},
   "outputs": [
    {
     "name": "stdout",
     "output_type": "stream",
     "text": [
      "p value is  2.4106320415561276e-07\n"
     ]
    }
   ],
   "source": [
    "t_val, p_val = ttest_1samp(tmp, X)\n",
    "print ('p value is ', p_val)"
   ]
  },
  {
   "cell_type": "markdown",
   "metadata": {},
   "source": [
    "**3. In this situation, is it appropriate to use the  𝑡  or  𝑧  statistic?**\n"
   ]
  },
  {
   "cell_type": "markdown",
   "metadata": {},
   "source": [
    "It is more appropriate to use the t-statistic, because we don't know the population standard deviation to find the z statistic. \n",
    "We need to use the sample standard deviation, when using this statistics, we must use the t-statistic. Using the z-statistic \n",
    "will underestimate the true value"
   ]
  },
  {
   "cell_type": "markdown",
   "metadata": {},
   "source": [
    "**4. Now try using the other test. How is the result be different? Why?**\n",
    "\n",
    "The difference in result is primarily through the p-value. It is greatly underestimated."
   ]
  },
  {
   "cell_type": "code",
   "execution_count": 229,
   "metadata": {},
   "outputs": [
    {
     "name": "stdout",
     "output_type": "stream",
     "text": [
      "-5.4548232923645195 4.9021570141012155e-08\n"
     ]
    }
   ],
   "source": [
    "z_val, p_val = ztest(tmp, value = X)\n",
    "print (z_val, p_val)"
   ]
  },
  {
   "cell_type": "markdown",
   "metadata": {},
   "source": [
    "## Q4. Draw a small sample of size 10 from the data and repeat both frequentist tests.\n",
    "    * Which one is the correct one to use?\n",
    "            t-statistic is still the correct one to use, as we do not know the population standard deviation\n",
    "    * What do you notice? What does this tell you about the difference in application of the  𝑡  and  𝑧  statistic?\n",
    "            z & t are a lot closer together. The variability among z and t depends on the number of samples"
   ]
  },
  {
   "cell_type": "code",
   "execution_count": 230,
   "metadata": {},
   "outputs": [],
   "source": [
    "#generating a random sample of size 10\n",
    "rs_10 = np.random.choice(tmp, size=10)"
   ]
  },
  {
   "cell_type": "code",
   "execution_count": 231,
   "metadata": {},
   "outputs": [
    {
     "name": "stdout",
     "output_type": "stream",
     "text": [
      "p value is  0.014073477032631518\n"
     ]
    }
   ],
   "source": [
    "\n",
    "# repeating ttest using sample size 10\n",
    "t_val, p_val = ttest_1samp(rs_10, X)\n",
    "print ('p value is ', p_val)"
   ]
  },
  {
   "cell_type": "code",
   "execution_count": 232,
   "metadata": {},
   "outputs": [
    {
     "name": "stdout",
     "output_type": "stream",
     "text": [
      "-3.037555626823272 0.0023850537971063703\n"
     ]
    }
   ],
   "source": [
    "#repeating ztest using sample size 10\n",
    "z_val, p_val = ztest(rs_10, value = X)\n",
    "print (z_val, p_val)"
   ]
  },
  {
   "cell_type": "markdown",
   "metadata": {},
   "source": [
    "## Q5 At what temperature should we consider someone's temperature to be \"abnormal\"?\n",
    "    * As in the previous example, try calculating everything using the boostrap approach, \n",
    "        as well as the frequentist approach.\n",
    "    \n",
    "    * Start by computing the margin of error and confidence interval. When calculating the confidence interval,\n",
    "        keep in mind that you should use the appropriate formula for one draw, and not N draws."
   ]
  },
  {
   "cell_type": "markdown",
   "metadata": {},
   "source": [
    "### Bootstrap approach"
   ]
  },
  {
   "cell_type": "code",
   "execution_count": 233,
   "metadata": {},
   "outputs": [],
   "source": [
    "bs_mean = draw_bs_reps (tmp, np.mean, 10000)"
   ]
  },
  {
   "cell_type": "code",
   "execution_count": 234,
   "metadata": {},
   "outputs": [
    {
     "data": {
      "text/plain": [
       "array([98.12153846, 98.37615385])"
      ]
     },
     "execution_count": 234,
     "metadata": {},
     "output_type": "execute_result"
    }
   ],
   "source": [
    "conf_int = np.percentile(bs_mean, [2.5, 97.5])\n",
    "conf_int"
   ]
  },
  {
   "cell_type": "code",
   "execution_count": 235,
   "metadata": {},
   "outputs": [
    {
     "name": "stdout",
     "output_type": "stream",
     "text": [
      "Someone's temperature less than 98.12153846153845 and more than 98.37615384615383 would be considered abnormal.\n"
     ]
    }
   ],
   "source": [
    "print(\"Someone's temperature less than\" ,conf_int[0] ,'and more than' ,conf_int[1],'would be considered abnormal.')"
   ]
  },
  {
   "cell_type": "markdown",
   "metadata": {},
   "source": [
    "### Frequentist approach"
   ]
  },
  {
   "cell_type": "code",
   "execution_count": 236,
   "metadata": {},
   "outputs": [
    {
     "data": {
      "text/plain": [
       "(96.81775582674824, 99.68070571171332)"
      ]
     },
     "execution_count": 236,
     "metadata": {},
     "output_type": "execute_result"
    }
   ],
   "source": [
    "conf_int = stats.norm.interval(alpha=0.95, loc=np.mean(tmp), scale=np.std(tmp))\n",
    "conf_int"
   ]
  },
  {
   "cell_type": "code",
   "execution_count": 237,
   "metadata": {
    "scrolled": true
   },
   "outputs": [
    {
     "name": "stdout",
     "output_type": "stream",
     "text": [
      "Someone's temperature less than 96.81775582674824 and more than 99.68070571171332 would be considered abnormal.\n"
     ]
    }
   ],
   "source": [
    "print(\"Someone's temperature less than\" ,conf_int[0] ,'and more than' ,conf_int[1],'would be considered abnormal.')"
   ]
  },
  {
   "cell_type": "markdown",
   "metadata": {},
   "source": [
    "## Q6: Is there a significant difference between males and females in normal temperature?\n",
    " "
   ]
  },
  {
   "cell_type": "markdown",
   "metadata": {},
   "source": [
    " #### Yes, the null hypothesis that there is no difference between male and female temperature can be rejected, p value <.05\n",
    " \n",
    " * What testing approach did you use and why?\n",
    "           I used a two-sample bootstrap hypothesis test rather than the permutation test. The two sample test will test if males & females have the same mean temperature, whereas the permutation test will measure if the two samples have the same distribution.\n",
    "   * Write a story with your conclusion in the context of the original problem."
   ]
  },
  {
   "cell_type": "markdown",
   "metadata": {},
   "source": [
    "#### Bootstrap approach"
   ]
  },
  {
   "cell_type": "code",
   "execution_count": 238,
   "metadata": {},
   "outputs": [],
   "source": [
    "#select only male / female temps and place them in seperate variables\n",
    "m_tmps = df[df['gender'] == 'M'].temperature\n",
    "f_tmps = df[df['gender'] == 'F'].temperature\n",
    "\n",
    "#difference of the means for male/female temperatures\n",
    "mf_diff_obs = np.mean(m_tmps) - np.mean(f_tmps)\n"
   ]
  },
  {
   "cell_type": "code",
   "execution_count": 239,
   "metadata": {},
   "outputs": [],
   "source": [
    "#Generate shifted data sets for both males/females so that the means of each is the mean of the total dataset together\n",
    "m_tmps_shift = m_tmps - np.mean(m_tmps) + np.mean(tmp)\n",
    "f_tmps_shift = f_tmps - np.mean(f_tmps) + np.mean(tmp)"
   ]
  },
  {
   "cell_type": "code",
   "execution_count": 240,
   "metadata": {},
   "outputs": [],
   "source": [
    "#Generate bootstrap replicates of the mean each for the two shifted arrays\n",
    "bs_reps_m = draw_bs_reps(m_tmps_shift, np.mean, 10000)\n",
    "bs_reps_f = draw_bs_reps(f_tmps_shift, np.mean, 10000)\n",
    "\n",
    "#get replicates of difference of means\n",
    "bs_reps = bs_reps_m - bs_reps_f\n"
   ]
  },
  {
   "cell_type": "code",
   "execution_count": 241,
   "metadata": {},
   "outputs": [
    {
     "data": {
      "text/plain": [
       "0.0114"
      ]
     },
     "execution_count": 241,
     "metadata": {},
     "output_type": "execute_result"
    }
   ],
   "source": [
    "#compute and print p-value\n",
    "p = np.sum(bs_reps <= mf_diff_obs) / len(bs_reps)\n",
    "p"
   ]
  },
  {
   "cell_type": "markdown",
   "metadata": {},
   "source": [
    "#### Frequentist approach"
   ]
  },
  {
   "cell_type": "code",
   "execution_count": 242,
   "metadata": {},
   "outputs": [
    {
     "name": "stdout",
     "output_type": "stream",
     "text": [
      "0.02393188312239561\n"
     ]
    }
   ],
   "source": [
    "#  two-sample t-test\n",
    "t_val, p_val = ttest_ind(m_tmps, f_tmps)\n",
    "print (p_val)"
   ]
  },
  {
   "cell_type": "markdown",
   "metadata": {},
   "source": [
    "From the data collected, it would seem that there is evidence that the 'normal' body temperature is different from the population value of 98.6F\n",
    "\n",
    "A temperature outside of a range from 96.82 and 99.68 would be considered abnormal.\n",
    "\n",
    "There seems to be a significant difference between mean male and female body temperatures"
   ]
  },
  {
   "cell_type": "code",
   "execution_count": null,
   "metadata": {},
   "outputs": [],
   "source": []
  },
  {
   "cell_type": "code",
   "execution_count": null,
   "metadata": {},
   "outputs": [],
   "source": []
  },
  {
   "cell_type": "code",
   "execution_count": null,
   "metadata": {},
   "outputs": [],
   "source": []
  }
 ],
 "metadata": {
  "kernelspec": {
   "display_name": "Python 3",
   "language": "python",
   "name": "python3"
  },
  "language_info": {
   "codemirror_mode": {
    "name": "ipython",
    "version": 3
   },
   "file_extension": ".py",
   "mimetype": "text/x-python",
   "name": "python",
   "nbconvert_exporter": "python",
   "pygments_lexer": "ipython3",
   "version": "3.7.1"
  }
 },
 "nbformat": 4,
 "nbformat_minor": 1
}
